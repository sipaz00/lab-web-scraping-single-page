{
 "cells": [
  {
   "cell_type": "code",
   "execution_count": null,
   "id": "98f31a7d-2507-486f-8950-083f70f42964",
   "metadata": {},
   "outputs": [],
   "source": [
    "#15:44 Aila corrige lab"
   ]
  },
  {
   "cell_type": "code",
   "execution_count": 1,
   "id": "65ccef09-b327-4f21-b18e-c715e2553cd2",
   "metadata": {},
   "outputs": [],
   "source": [
    "import pandas as pd #data manipulation  and analysis\n",
    "from bs4 import BeautifulSoup #helps extract data from HTML \n",
    "import requests #requests we only need it at the beginning of the webscraping.\n",
    "\n",
    "##\n",
    "import warnings\n",
    "warnings.filterwarnings('ignore')"
   ]
  },
  {
   "cell_type": "code",
   "execution_count": 2,
   "id": "c52c0b42-2d05-4e5f-8b60-d3a0ef73aaaf",
   "metadata": {},
   "outputs": [
    {
     "data": {
      "text/plain": [
       "200"
      ]
     },
     "execution_count": 2,
     "metadata": {},
     "output_type": "execute_result"
    }
   ],
   "source": [
    "# Get the link\n",
    "link = \"https://www.billboard.com/charts/hot-100\"\n",
    "response = requests.get(link)\n",
    "response.status_code"
   ]
  },
  {
   "cell_type": "code",
   "execution_count": 4,
   "id": "cd336336-f45b-49f6-8db0-b34d6e6975de",
   "metadata": {},
   "outputs": [],
   "source": [
    "soup = BeautifulSoup(response.text, 'html.parser')\n",
    "# print(soup.prettify())"
   ]
  },
  {
   "cell_type": "code",
   "execution_count": 12,
   "id": "9f03955a-0c43-44c1-adb5-c4cba9b59ea1",
   "metadata": {},
   "outputs": [],
   "source": [
    "title_songs = []\n",
    "for i in soup.find_all(attrs={'class':'o-chart-results-list-row-container'}):\n",
    "    title_songs.append(i.h3.get_text(strip=True))"
   ]
  },
  {
   "cell_type": "code",
   "execution_count": 13,
   "id": "70803467-9346-42f2-a99f-f418502f4569",
   "metadata": {},
   "outputs": [],
   "source": [
    "name_bands = []\n",
    "for i in soup.find_all(attrs={'class':'o-chart-results-list-row-container'}):\n",
    "    name_bands.append(i.h3.find_next('span').get_text(strip=True))"
   ]
  },
  {
   "cell_type": "code",
   "execution_count": 15,
   "id": "81c22cdc-a014-408d-9041-38b7df94da58",
   "metadata": {},
   "outputs": [],
   "source": [
    "ranking = []\n",
    "for i in soup.find_all(attrs={'class':'o-chart-results-list-row-container'}):\n",
    "    ranking.append(i.li.find_next('span').get_text(strip=True))"
   ]
  },
  {
   "cell_type": "code",
   "execution_count": 21,
   "id": "73d8587f-73b7-47de-a45a-569576e9307b",
   "metadata": {},
   "outputs": [],
   "source": [
    "categories = {\"Ranking\": ranking,\n",
    "              \"Song\": title_songs,\n",
    "              \"Band\": name_bands\n",
    "             }"
   ]
  },
  {
   "cell_type": "code",
   "execution_count": 22,
   "id": "1e16bc55-6e0a-4aa1-82b1-4ef72354054a",
   "metadata": {},
   "outputs": [],
   "source": [
    "df = pd.DataFrame(categories)"
   ]
  },
  {
   "cell_type": "code",
   "execution_count": 23,
   "id": "bcf503a7-0a69-4edb-a2b0-0e20927a1a39",
   "metadata": {},
   "outputs": [
    {
     "data": {
      "text/html": [
       "<div>\n",
       "<style scoped>\n",
       "    .dataframe tbody tr th:only-of-type {\n",
       "        vertical-align: middle;\n",
       "    }\n",
       "\n",
       "    .dataframe tbody tr th {\n",
       "        vertical-align: top;\n",
       "    }\n",
       "\n",
       "    .dataframe thead th {\n",
       "        text-align: right;\n",
       "    }\n",
       "</style>\n",
       "<table border=\"1\" class=\"dataframe\">\n",
       "  <thead>\n",
       "    <tr style=\"text-align: right;\">\n",
       "      <th></th>\n",
       "      <th>Ranking</th>\n",
       "      <th>Song</th>\n",
       "      <th>Band</th>\n",
       "    </tr>\n",
       "  </thead>\n",
       "  <tbody>\n",
       "    <tr>\n",
       "      <th>0</th>\n",
       "      <td>1</td>\n",
       "      <td>A Bar Song (Tipsy)</td>\n",
       "      <td>Shaboozey</td>\n",
       "    </tr>\n",
       "    <tr>\n",
       "      <th>1</th>\n",
       "      <td>2</td>\n",
       "      <td>I Had Some Help</td>\n",
       "      <td>Post Malone Featuring Morgan Wallen</td>\n",
       "    </tr>\n",
       "    <tr>\n",
       "      <th>2</th>\n",
       "      <td>3</td>\n",
       "      <td>Espresso</td>\n",
       "      <td>Sabrina Carpenter</td>\n",
       "    </tr>\n",
       "    <tr>\n",
       "      <th>3</th>\n",
       "      <td>4</td>\n",
       "      <td>Good Luck, Babe!</td>\n",
       "      <td>Chappell Roan</td>\n",
       "    </tr>\n",
       "    <tr>\n",
       "      <th>4</th>\n",
       "      <td>5</td>\n",
       "      <td>Die With A Smile</td>\n",
       "      <td>Lady Gaga &amp; Bruno Mars</td>\n",
       "    </tr>\n",
       "    <tr>\n",
       "      <th>...</th>\n",
       "      <td>...</td>\n",
       "      <td>...</td>\n",
       "      <td>...</td>\n",
       "    </tr>\n",
       "    <tr>\n",
       "      <th>95</th>\n",
       "      <td>96</td>\n",
       "      <td>U My Everything</td>\n",
       "      <td>Sexyy Red &amp; Drake</td>\n",
       "    </tr>\n",
       "    <tr>\n",
       "      <th>96</th>\n",
       "      <td>97</td>\n",
       "      <td>My Kink Is Karma</td>\n",
       "      <td>Chappell Roan</td>\n",
       "    </tr>\n",
       "    <tr>\n",
       "      <th>97</th>\n",
       "      <td>98</td>\n",
       "      <td>Nasty</td>\n",
       "      <td>Tinashe</td>\n",
       "    </tr>\n",
       "    <tr>\n",
       "      <th>98</th>\n",
       "      <td>99</td>\n",
       "      <td>Parking Lot</td>\n",
       "      <td>Mustard &amp; Travis Scott</td>\n",
       "    </tr>\n",
       "    <tr>\n",
       "      <th>99</th>\n",
       "      <td>100</td>\n",
       "      <td>Worst Way</td>\n",
       "      <td>Riley Green</td>\n",
       "    </tr>\n",
       "  </tbody>\n",
       "</table>\n",
       "<p>100 rows × 3 columns</p>\n",
       "</div>"
      ],
      "text/plain": [
       "   Ranking                Song                                 Band\n",
       "0        1  A Bar Song (Tipsy)                            Shaboozey\n",
       "1        2     I Had Some Help  Post Malone Featuring Morgan Wallen\n",
       "2        3            Espresso                    Sabrina Carpenter\n",
       "3        4    Good Luck, Babe!                        Chappell Roan\n",
       "4        5    Die With A Smile               Lady Gaga & Bruno Mars\n",
       "..     ...                 ...                                  ...\n",
       "95      96     U My Everything                    Sexyy Red & Drake\n",
       "96      97    My Kink Is Karma                        Chappell Roan\n",
       "97      98               Nasty                              Tinashe\n",
       "98      99         Parking Lot               Mustard & Travis Scott\n",
       "99     100           Worst Way                          Riley Green\n",
       "\n",
       "[100 rows x 3 columns]"
      ]
     },
     "execution_count": 23,
     "metadata": {},
     "output_type": "execute_result"
    }
   ],
   "source": [
    "df"
   ]
  },
  {
   "cell_type": "code",
   "execution_count": null,
   "id": "7dc63431-ffb6-4ce1-b27c-a5f1bd9142ae",
   "metadata": {},
   "outputs": [],
   "source": []
  }
 ],
 "metadata": {
  "kernelspec": {
   "display_name": "Python 3 (ipykernel)",
   "language": "python",
   "name": "python3"
  },
  "language_info": {
   "codemirror_mode": {
    "name": "ipython",
    "version": 3
   },
   "file_extension": ".py",
   "mimetype": "text/x-python",
   "name": "python",
   "nbconvert_exporter": "python",
   "pygments_lexer": "ipython3",
   "version": "3.11.7"
  }
 },
 "nbformat": 4,
 "nbformat_minor": 5
}
